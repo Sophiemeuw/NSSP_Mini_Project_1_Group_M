{
 "cells": [
  {
   "cell_type": "markdown",
   "id": "e196367e-22a5-4627-8668-3ea1cbeb3400",
   "metadata": {},
   "source": [
    "# EVENT (.TSV) FILES PROCESSING\n",
    "\n",
    "This file contains the code to process the event files.\n",
    "It concatenates the standardized event files of the 3 runs and adapts the onset times for smooth transitions between runs.\n",
    "\n",
    "The resulting file with the entire 'timeline' is saved as: 'sub-control01_task-music_concat_run_events.tsv'"
   ]
  },
  {
   "cell_type": "code",
   "execution_count": 2,
   "id": "04141cce-db7c-4926-af09-3306e727fcb2",
   "metadata": {},
   "outputs": [
    {
     "name": "stderr",
     "output_type": "stream",
     "text": [
      "Gtk-Message: 11:37:52.697: Failed to load module \"canberra-gtk-module\"\n"
     ]
    }
   ],
   "source": [
    "%gui wx\n",
    "import sys\n",
    "import os\n",
    "\n",
    "#####################\n",
    "# Import of utils.py functions\n",
    "#####################\n",
    "# Required to get utils.py and access its functions\n",
    "notebook_dir = os.path.abspath(\"\")\n",
    "parent_dir = os.path.abspath(os.path.join(notebook_dir, '..'))\n",
    "sys.path.append(parent_dir)\n",
    "sys.path.append('.')\n",
    "from utils import loadFSL, FSLeyesServer, mkdir_no_exist, interactive_MCQ,get_json_from_file\n",
    "\n",
    "####################\n",
    "# DIPY_HOME should be set prior to import of dipy to make sure all downloads point to the right folder\n",
    "####################\n",
    "os.environ[\"DIPY_HOME\"] = \"/home/jovyan/data\"\n",
    "\n",
    "\n",
    "#############################\n",
    "# Loading fsl and freesurfer within Neurodesk\n",
    "# You can find the list of available other modules by clicking on the \"Softwares\" tab on the left\n",
    "#############################\n",
    "import lmod\n",
    "await lmod.purge(force=True)\n",
    "await lmod.load('fsl/6.0.7.4')\n",
    "await lmod.load('freesurfer/7.4.1')\n",
    "await lmod.list()\n",
    "\n",
    "####################\n",
    "# Setup FSL path\n",
    "####################\n",
    "loadFSL()\n",
    "\n",
    "###################\n",
    "# Load all relevant libraries for the lab\n",
    "##################\n",
    "import fsl.wrappers\n",
    "from fsl.wrappers import fslmaths\n",
    "\n",
    "import mne_nirs\n",
    "import nilearn\n",
    "from nilearn.datasets import fetch_development_fmri\n",
    "\n",
    "import mne\n",
    "import mne_nirs\n",
    "import dipy\n",
    "from dipy.data import fetch_bundles_2_subjects, read_bundles_2_subjects\n",
    "import xml.etree.ElementTree as ET\n",
    "import os.path as op\n",
    "import nibabel as nib\n",
    "import glob\n",
    "\n",
    "import ants\n",
    "import openneuro\n",
    "from mne.datasets import sample\n",
    "from mne_bids import BIDSPath, read_raw_bids, print_dir_tree, make_report\n",
    "\n",
    "\n",
    "# Useful imports to define the direct download function below\n",
    "import requests\n",
    "import urllib.request\n",
    "from tqdm import tqdm\n",
    "\n",
    "\n",
    "# FSL function wrappers which we will call from python directly\n",
    "from fsl.wrappers import fast, bet\n",
    "from fsl.wrappers.misc import fslroi\n",
    "from fsl.wrappers import flirt\n",
    "\n",
    "# General purpose imports to handle paths, files etc\n",
    "import glob\n",
    "import pandas as pd\n",
    "import numpy as np\n",
    "import json\n",
    "\n",
    "from IPython.display import display, HTML\n"
   ]
  },
  {
   "cell_type": "markdown",
   "id": "689a8d2a-5ec0-45fa-af64-f0a8a6e0705f",
   "metadata": {},
   "source": [
    "# 1. Load event files"
   ]
  },
  {
   "cell_type": "code",
   "execution_count": 4,
   "id": "3e15eda1-80f5-498b-8b69-a689a8920779",
   "metadata": {},
   "outputs": [],
   "source": [
    "dataset_id = 'ds000171'\n",
    "subject = '01'\n",
    "\n",
    "sample_path = \"/home/jovyan/data/dataset\"\n",
    "mkdir_no_exist(sample_path)\n",
    "bids_root = op.join(os.path.abspath(\"\"),sample_path, dataset_id)\n",
    "deriv_root = op.join(bids_root, 'derivatives')\n",
    "preproc_root = op.join(bids_root, 'derivatives','preprocessed_data')\n",
    "\n",
    "event_run1=pd.read_csv(op.join(bids_root, 'sub-control01', 'func', 'sub-control01_task-music_run-1_events.tsv'), sep='\\t')\n",
    "event_run2=pd.read_csv(op.join(bids_root, 'sub-control01', 'func', 'sub-control01_task-music_run-2_events.tsv'), sep='\\t')\n",
    "event_run3=pd.read_csv(op.join(bids_root, 'sub-control01', 'func', 'sub-control01_task-music_run-3_events.tsv'), sep='\\t')"
   ]
  },
  {
   "cell_type": "code",
   "execution_count": 10,
   "id": "3d7987ba-87ba-4bd1-b66c-51e1635dcd60",
   "metadata": {},
   "outputs": [],
   "source": [
    "# Function to standardize and adjust the onset\n",
    "def standardize_and_adjust_onset(current_run, last_onset=None, last_duration=None):\n",
    "    current_run['onset'] -= current_run['onset'].min()\n",
    "    \n",
    "    if last_onset is not None and last_duration is not None:\n",
    "        current_run['onset'] += last_onset + last_duration\n",
    "    return current_run\n",
    "\n",
    "# Standardizing and adjusting each run\n",
    "run1_standardized = standardize_and_adjust_onset(event_run1)\n",
    "last_onset_run1 = run1_standardized['onset'].iloc[-1]  # Get the last onset of run1\n",
    "last_duration_run1 = run1_standardized['duration'].iloc[-1]  # Get the last duration of run1\n",
    "run2_standardized = standardize_and_adjust_onset(event_run2, last_onset=last_onset_run1, last_duration=last_duration_run1)\n",
    "\n",
    "last_onset_run2 = run2_standardized['onset'].iloc[-1]  # Get the last onset of run2\n",
    "last_duration_run2 = run2_standardized['duration'].iloc[-1]  # Get the last duration of run2\n",
    "run3_standardized = standardize_and_adjust_onset(event_run3, last_onset=last_onset_run2, last_duration=last_duration_run2)\n",
    "\n",
    "# Concatenating all runs together\n",
    "combined_runs = pd.concat([run1_standardized, run2_standardized, run3_standardized], ignore_index=True)\n",
    "\n",
    "# Define the output path\n",
    "output_path = os.path.join(bids_root, 'sub-control01', 'func', 'sub-control01_task-music_concat_run_events.tsv')\n",
    "\n",
    "# Create the directory if it doesn't exist\n",
    "os.makedirs(os.path.dirname(output_path), exist_ok=True)\n",
    "\n",
    "# Save the combined dataframe to a TSV file\n",
    "combined_runs.to_csv(output_path, sep='\\t', index=False)"
   ]
  },
  {
   "cell_type": "code",
   "execution_count": null,
   "id": "28407b80-3a1a-4734-9ea7-e1cfebdc2f20",
   "metadata": {},
   "outputs": [],
   "source": []
  }
 ],
 "metadata": {
  "kernelspec": {
   "display_name": "Python 3 (ipykernel)",
   "language": "python",
   "name": "python3"
  },
  "language_info": {
   "codemirror_mode": {
    "name": "ipython",
    "version": 3
   },
   "file_extension": ".py",
   "mimetype": "text/x-python",
   "name": "python",
   "nbconvert_exporter": "python",
   "pygments_lexer": "ipython3",
   "version": "3.11.6"
  }
 },
 "nbformat": 4,
 "nbformat_minor": 5
}
